{
  "nbformat": 4,
  "nbformat_minor": 0,
  "metadata": {
    "kernelspec": {
      "display_name": "Python 3",
      "language": "python",
      "name": "python3"
    },
    "language_info": {
      "codemirror_mode": {
        "name": "ipython",
        "version": 3
      },
      "file_extension": ".py",
      "mimetype": "text/x-python",
      "name": "python",
      "nbconvert_exporter": "python",
      "pygments_lexer": "ipython3",
      "version": "3.7.6"
    },
    "colab": {
      "name": "stats assignment2.ipynb",
      "provenance": [],
      "include_colab_link": true
    }
  },
  "cells": [
    {
      "cell_type": "markdown",
      "metadata": {
        "id": "view-in-github",
        "colab_type": "text"
      },
      "source": [
        "<a href=\"https://colab.research.google.com/github/Alekhyo/Statistics/blob/master/stats_assignment2.ipynb\" target=\"_parent\"><img src=\"https://colab.research.google.com/assets/colab-badge.svg\" alt=\"Open In Colab\"/></a>"
      ]
    },
    {
      "cell_type": "code",
      "metadata": {
        "scrolled": true,
        "id": "wZ_lR06G-v_k",
        "colab_type": "code",
        "colab": {}
      },
      "source": [
        "import numpy as np\n",
        "import pandas as pd\n",
        "import matplotlib.pyplot as plt\n",
        "import seaborn as sns"
      ],
      "execution_count": 0,
      "outputs": []
    },
    {
      "cell_type": "code",
      "metadata": {
        "id": "JRkMdBHv-v_o",
        "colab_type": "code",
        "colab": {}
      },
      "source": [
        "delivery=pd.read_csv('deliveries.csv')"
      ],
      "execution_count": 0,
      "outputs": []
    },
    {
      "cell_type": "markdown",
      "metadata": {
        "id": "xPwfFNZx-v_t",
        "colab_type": "text"
      },
      "source": [
        "# Q1-- Based on IPL dataset, create a function which will accept a batsman name and 1 interger value and returns the number of runs he has scored after those many matches"
      ]
    },
    {
      "cell_type": "code",
      "metadata": {
        "id": "WgIMASC9-v_u",
        "colab_type": "code",
        "colab": {}
      },
      "source": [
        "def runs_after(name,match):\n",
        "    try:\n",
        "        a=delivery[delivery['batsman']==name].groupby(['match_id'])['batsman_runs'].sum().reset_index()\n",
        "    \n",
        "        runs=list(a['batsman_runs'].values)\n",
        "\n",
        "        for i in range(1,len(runs)):\n",
        "            runs[i]=runs[i]+runs[i-1]\n",
        "        \n",
        "        print(runs[int(match)-1])\n",
        "        \n",
        "    \n",
        "    except:\n",
        "        print(\"Enter correct name and match value\")"
      ],
      "execution_count": 0,
      "outputs": []
    },
    {
      "cell_type": "code",
      "metadata": {
        "id": "QvybZS7q-v_w",
        "colab_type": "code",
        "colab": {},
        "outputId": "c146a28b-67be-4722-ad0d-7a8004fb6838"
      },
      "source": [
        "runs_after('V Kohli',18)"
      ],
      "execution_count": 0,
      "outputs": [
        {
          "output_type": "stream",
          "text": [
            "401\n"
          ],
          "name": "stdout"
        }
      ]
    },
    {
      "cell_type": "code",
      "metadata": {
        "id": "w70abJEj-v_0",
        "colab_type": "code",
        "colab": {}
      },
      "source": [
        ""
      ],
      "execution_count": 0,
      "outputs": []
    },
    {
      "cell_type": "markdown",
      "metadata": {
        "id": "9EW6d_WA-v_2",
        "colab_type": "text"
      },
      "source": [
        "# Q2-- Plot Histogram for all fearutes of the data set and write comments on which feature is best for predicting survival status."
      ]
    },
    {
      "cell_type": "code",
      "metadata": {
        "id": "sdcOqFYO-v_3",
        "colab_type": "code",
        "colab": {}
      },
      "source": [
        "hb=pd.read_csv('haberman.csv')"
      ],
      "execution_count": 0,
      "outputs": []
    },
    {
      "cell_type": "code",
      "metadata": {
        "id": "7gE6qHr1-v_6",
        "colab_type": "code",
        "colab": {},
        "outputId": "541d8eb8-232f-4a65-ab54-fd29ee95db76"
      },
      "source": [
        "hb"
      ],
      "execution_count": 0,
      "outputs": [
        {
          "output_type": "execute_result",
          "data": {
            "text/html": [
              "<div>\n",
              "<style scoped>\n",
              "    .dataframe tbody tr th:only-of-type {\n",
              "        vertical-align: middle;\n",
              "    }\n",
              "\n",
              "    .dataframe tbody tr th {\n",
              "        vertical-align: top;\n",
              "    }\n",
              "\n",
              "    .dataframe thead th {\n",
              "        text-align: right;\n",
              "    }\n",
              "</style>\n",
              "<table border=\"1\" class=\"dataframe\">\n",
              "  <thead>\n",
              "    <tr style=\"text-align: right;\">\n",
              "      <th></th>\n",
              "      <th>age</th>\n",
              "      <th>year</th>\n",
              "      <th>nodes</th>\n",
              "      <th>survive</th>\n",
              "    </tr>\n",
              "  </thead>\n",
              "  <tbody>\n",
              "    <tr>\n",
              "      <th>0</th>\n",
              "      <td>30</td>\n",
              "      <td>64</td>\n",
              "      <td>1</td>\n",
              "      <td>1</td>\n",
              "    </tr>\n",
              "    <tr>\n",
              "      <th>1</th>\n",
              "      <td>30</td>\n",
              "      <td>62</td>\n",
              "      <td>3</td>\n",
              "      <td>1</td>\n",
              "    </tr>\n",
              "    <tr>\n",
              "      <th>2</th>\n",
              "      <td>30</td>\n",
              "      <td>65</td>\n",
              "      <td>0</td>\n",
              "      <td>1</td>\n",
              "    </tr>\n",
              "    <tr>\n",
              "      <th>3</th>\n",
              "      <td>31</td>\n",
              "      <td>59</td>\n",
              "      <td>2</td>\n",
              "      <td>1</td>\n",
              "    </tr>\n",
              "    <tr>\n",
              "      <th>4</th>\n",
              "      <td>31</td>\n",
              "      <td>65</td>\n",
              "      <td>4</td>\n",
              "      <td>1</td>\n",
              "    </tr>\n",
              "    <tr>\n",
              "      <th>...</th>\n",
              "      <td>...</td>\n",
              "      <td>...</td>\n",
              "      <td>...</td>\n",
              "      <td>...</td>\n",
              "    </tr>\n",
              "    <tr>\n",
              "      <th>301</th>\n",
              "      <td>75</td>\n",
              "      <td>62</td>\n",
              "      <td>1</td>\n",
              "      <td>1</td>\n",
              "    </tr>\n",
              "    <tr>\n",
              "      <th>302</th>\n",
              "      <td>76</td>\n",
              "      <td>67</td>\n",
              "      <td>0</td>\n",
              "      <td>1</td>\n",
              "    </tr>\n",
              "    <tr>\n",
              "      <th>303</th>\n",
              "      <td>77</td>\n",
              "      <td>65</td>\n",
              "      <td>3</td>\n",
              "      <td>1</td>\n",
              "    </tr>\n",
              "    <tr>\n",
              "      <th>304</th>\n",
              "      <td>78</td>\n",
              "      <td>65</td>\n",
              "      <td>1</td>\n",
              "      <td>2</td>\n",
              "    </tr>\n",
              "    <tr>\n",
              "      <th>305</th>\n",
              "      <td>83</td>\n",
              "      <td>58</td>\n",
              "      <td>2</td>\n",
              "      <td>2</td>\n",
              "    </tr>\n",
              "  </tbody>\n",
              "</table>\n",
              "<p>306 rows × 4 columns</p>\n",
              "</div>"
            ],
            "text/plain": [
              "     age  year  nodes  survive\n",
              "0     30    64      1        1\n",
              "1     30    62      3        1\n",
              "2     30    65      0        1\n",
              "3     31    59      2        1\n",
              "4     31    65      4        1\n",
              "..   ...   ...    ...      ...\n",
              "301   75    62      1        1\n",
              "302   76    67      0        1\n",
              "303   77    65      3        1\n",
              "304   78    65      1        2\n",
              "305   83    58      2        2\n",
              "\n",
              "[306 rows x 4 columns]"
            ]
          },
          "metadata": {
            "tags": []
          },
          "execution_count": 6
        }
      ]
    },
    {
      "cell_type": "code",
      "metadata": {
        "id": "6Tr3Jyv5-v_9",
        "colab_type": "code",
        "colab": {},
        "outputId": "2fda2a78-3bd4-42a5-d2ac-ea051f7f302d"
      },
      "source": [
        "sns.FacetGrid(hb,hue='survive',height=5).map(sns.distplot,'age').add_legend()"
      ],
      "execution_count": 0,
      "outputs": [
        {
          "output_type": "execute_result",
          "data": {
            "text/plain": [
              "<seaborn.axisgrid.FacetGrid at 0x1a85f2c6288>"
            ]
          },
          "metadata": {
            "tags": []
          },
          "execution_count": 23
        },
        {
          "output_type": "display_data",
          "data": {
            "image/png": "[encoded data removed]",
            "text/plain": [
              "<Figure size 404.5x360 with 1 Axes>"
            ]
          },
          "metadata": {
            "tags": [],
            "needs_background": "light"
          }
        }
      ]
    },
    {
      "cell_type": "code",
      "metadata": {
        "id": "WjFovd8x-wAB",
        "colab_type": "code",
        "colab": {},
        "outputId": "c1fa9f0b-70cb-4cb7-9ba8-69f91c3f2268"
      },
      "source": [
        "sns.FacetGrid(hb,hue='survive',height=5).map(sns.distplot,'year').add_legend()"
      ],
      "execution_count": 0,
      "outputs": [
        {
          "output_type": "execute_result",
          "data": {
            "text/plain": [
              "<seaborn.axisgrid.FacetGrid at 0x1a85f252cc8>"
            ]
          },
          "metadata": {
            "tags": []
          },
          "execution_count": 22
        },
        {
          "output_type": "display_data",
          "data": {
            "image/png": "[encoded data removed]",
            "text/plain": [
              "<Figure size 404.5x360 with 1 Axes>"
            ]
          },
          "metadata": {
            "tags": [],
            "needs_background": "light"
          }
        }
      ]
    },
    {
      "cell_type": "code",
      "metadata": {
        "id": "aunmaL-G-wAE",
        "colab_type": "code",
        "colab": {},
        "outputId": "e93f595e-9a66-48bb-cece-73e007d25e7b"
      },
      "source": [
        "sns.FacetGrid(hb,hue='survive',height=5).map(sns.distplot,'nodes').add_legend()"
      ],
      "execution_count": 0,
      "outputs": [
        {
          "output_type": "execute_result",
          "data": {
            "text/plain": [
              "<seaborn.axisgrid.FacetGrid at 0x1a85f07dc08>"
            ]
          },
          "metadata": {
            "tags": []
          },
          "execution_count": 21
        },
        {
          "output_type": "display_data",
          "data": {
            "image/png": "[encoded data removed]",
            "text/plain": [
              "<Figure size 404.5x360 with 1 Axes>"
            ]
          },
          "metadata": {
            "tags": [],
            "needs_background": "light"
          }
        }
      ]
    },
    {
      "cell_type": "markdown",
      "metadata": {
        "id": "JK7rwmkp-wAG",
        "colab_type": "text"
      },
      "source": [
        "# Survive VS node is the most preferred one because the overlapping of two PDF is least among the others"
      ]
    },
    {
      "cell_type": "code",
      "metadata": {
        "id": "SHSnbVVe-wAH",
        "colab_type": "code",
        "colab": {}
      },
      "source": [
        ""
      ],
      "execution_count": 0,
      "outputs": []
    },
    {
      "cell_type": "code",
      "metadata": {
        "id": "5DIr24Dl-wAJ",
        "colab_type": "code",
        "colab": {}
      },
      "source": [
        ""
      ],
      "execution_count": 0,
      "outputs": []
    },
    {
      "cell_type": "markdown",
      "metadata": {
        "id": "AAs4d7cl-wAL",
        "colab_type": "text"
      },
      "source": [
        "# Q3: Write a function which will plot the match wise scores of two batsman"
      ]
    },
    {
      "cell_type": "code",
      "metadata": {
        "id": "nyKIFHUh-wAM",
        "colab_type": "code",
        "colab": {}
      },
      "source": [
        "def plot_score(nameA,nameB):\n",
        "    try:\n",
        "        a=delivery[delivery['batsman']==nameA]\n",
        "        b=delivery[delivery['batsman']==nameB]\n",
        "\n",
        "        a=a.groupby('match_id')['batsman_runs'].sum().reset_index()\n",
        "        b=b.groupby('match_id')['batsman_runs'].sum().reset_index()\n",
        "\n",
        "        a.drop(['match_id'],axis=1,inplace=True)\n",
        "        b.drop(['match_id'],axis=1,inplace=True)\n",
        "\n",
        "        a['batsman']=nameA\n",
        "        b['batsman']=nameB\n",
        "\n",
        "        c=pd.concat([a,b])\n",
        "        return(sns.FacetGrid(c,hue='batsman',height=5).map(sns.distplot,'batsman_runs').add_legend())\n",
        "    except:\n",
        "        print(\"Enter Proper Names\")"
      ],
      "execution_count": 0,
      "outputs": []
    },
    {
      "cell_type": "code",
      "metadata": {
        "id": "o7GqanBa-wAO",
        "colab_type": "code",
        "colab": {},
        "outputId": "06d8e733-4ff6-4eaa-94b8-11e878dc455f"
      },
      "source": [
        "plot_score('V Kohli','DA Warner')"
      ],
      "execution_count": 0,
      "outputs": [
        {
          "output_type": "execute_result",
          "data": {
            "text/plain": [
              "<seaborn.axisgrid.FacetGrid at 0x1a85f718f88>"
            ]
          },
          "metadata": {
            "tags": []
          },
          "execution_count": 158
        },
        {
          "output_type": "display_data",
          "data": {
            "image/png": "[encoded data removed]",
            "text/plain": [
              "<Figure size 450.5x360 with 1 Axes>"
            ]
          },
          "metadata": {
            "tags": [],
            "needs_background": "light"
          }
        }
      ]
    },
    {
      "cell_type": "code",
      "metadata": {
        "id": "HKtx0T9--wAR",
        "colab_type": "code",
        "colab": {}
      },
      "source": [
        ""
      ],
      "execution_count": 0,
      "outputs": []
    },
    {
      "cell_type": "markdown",
      "metadata": {
        "id": "mnp_vqLe-wAT",
        "colab_type": "text"
      },
      "source": [
        "# Q4-- Write a function which will take a list as input and in return plot PDF and CDF curve"
      ]
    },
    {
      "cell_type": "code",
      "metadata": {
        "id": "rhE5uC85-wAU",
        "colab_type": "code",
        "colab": {}
      },
      "source": [
        "a=np.array([1,2,6,5,7,8,9,5,4,6,3,2,5,8,9,2,7,9,5,4,3,8,6,3,2,4,8,6,4,3,4,8,6,5])"
      ],
      "execution_count": 0,
      "outputs": []
    },
    {
      "cell_type": "code",
      "metadata": {
        "id": "8ckgMRUI-wAW",
        "colab_type": "code",
        "colab": {}
      },
      "source": [
        "counts,div=np.histogram(a,bins=10)"
      ],
      "execution_count": 0,
      "outputs": []
    },
    {
      "cell_type": "code",
      "metadata": {
        "id": "YsXxW2lc-wAY",
        "colab_type": "code",
        "colab": {}
      },
      "source": [
        "pdf=counts/sum(counts)"
      ],
      "execution_count": 0,
      "outputs": []
    },
    {
      "cell_type": "code",
      "metadata": {
        "id": "-SMynRk2-wAa",
        "colab_type": "code",
        "colab": {}
      },
      "source": [
        "cdf=list(pdf)"
      ],
      "execution_count": 0,
      "outputs": []
    },
    {
      "cell_type": "code",
      "metadata": {
        "id": "hgeUO0SQ-wAd",
        "colab_type": "code",
        "colab": {}
      },
      "source": [
        "for i in range(1,len(pdf)):\n",
        "    cdf[i]=cdf[i]+cdf[i-1]"
      ],
      "execution_count": 0,
      "outputs": []
    },
    {
      "cell_type": "code",
      "metadata": {
        "id": "qkK7em-_-wAf",
        "colab_type": "code",
        "colab": {},
        "outputId": "c5e7c587-e501-4e07-8647-1d8b45e63449"
      },
      "source": [
        "plt.plot(div[1:],pdf)\n",
        "plt.plot(div[1:],cdf)"
      ],
      "execution_count": 0,
      "outputs": [
        {
          "output_type": "execute_result",
          "data": {
            "text/plain": [
              "[<matplotlib.lines.Line2D at 0x1a85f973d08>]"
            ]
          },
          "metadata": {
            "tags": []
          },
          "execution_count": 232
        },
        {
          "output_type": "display_data",
          "data": {
            "image/png": "[encoded data removed]",
            "text/plain": [
              "<Figure size 432x288 with 1 Axes>"
            ]
          },
          "metadata": {
            "tags": [],
            "needs_background": "light"
          }
        }
      ]
    },
    {
      "cell_type": "code",
      "metadata": {
        "id": "SUBk55n4-wAi",
        "colab_type": "code",
        "colab": {}
      },
      "source": [
        ""
      ],
      "execution_count": 0,
      "outputs": []
    }
  ]
}