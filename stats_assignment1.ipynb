{
  "nbformat": 4,
  "nbformat_minor": 0,
  "metadata": {
    "kernelspec": {
      "display_name": "Python 3",
      "language": "python",
      "name": "python3"
    },
    "language_info": {
      "codemirror_mode": {
        "name": "ipython",
        "version": 3
      },
      "file_extension": ".py",
      "mimetype": "text/x-python",
      "name": "python",
      "nbconvert_exporter": "python",
      "pygments_lexer": "ipython3",
      "version": "3.7.6"
    },
    "colab": {
      "name": "stats assignment.ipynb",
      "provenance": [],
      "include_colab_link": true
    }
  },
  "cells": [
    {
      "cell_type": "markdown",
      "metadata": {
        "id": "view-in-github",
        "colab_type": "text"
      },
      "source": [
        "<a href=\"https://colab.research.google.com/github/Alekhyo/Statistics/blob/master/stats_assignment1.ipynb\" target=\"_parent\"><img src=\"https://colab.research.google.com/assets/colab-badge.svg\" alt=\"Open In Colab\"/></a>"
      ]
    },
    {
      "cell_type": "code",
      "metadata": {
        "id": "8Jqf8hpwXrQQ",
        "colab_type": "code",
        "colab": {}
      },
      "source": [
        "import numpy as np\n",
        "import pandas as pd\n",
        "import math\n",
        "import matplotlib.pyplot as plt"
      ],
      "execution_count": 0,
      "outputs": []
    },
    {
      "cell_type": "markdown",
      "metadata": {
        "id": "iHW93h_FXrQV",
        "colab_type": "text"
      },
      "source": [
        "# Question 1.\n",
        "\n",
        "You have to create a function that receives a list of numbers like [23,14,13,56,78,98,12] and returns it's Interquartile range(IQR)"
      ]
    },
    {
      "cell_type": "code",
      "metadata": {
        "id": "uw2l0pzBXrQW",
        "colab_type": "code",
        "colab": {}
      },
      "source": [
        "def percentile(arr,n):\n",
        "       pos=((n/100)*len(arr))\n",
        "       if (pos).is_integer()==True:\n",
        "         pos=int(pos)\n",
        "         return((arr[pos-1]+arr[pos])/2)\n",
        "       else:\n",
        "         pos=math.ceil(pos)\n",
        "         return(arr[pos-1])\n",
        "\n",
        "def interqr(arr):\n",
        "    arr=np.sort(arr,axis=None)\n",
        "    return percentile(arr,75)-percentile(arr,25)"
      ],
      "execution_count": 0,
      "outputs": []
    },
    {
      "cell_type": "code",
      "metadata": {
        "id": "wFZb-zc5XrQY",
        "colab_type": "code",
        "colab": {},
        "outputId": "baf0a67c-7a8e-413e-f7f0-2c5968a48703"
      },
      "source": [
        "a=np.array([23,14,13,56,78,98,12])\n",
        "print(\"The interquartile range is {}\".format(interqr(a)))"
      ],
      "execution_count": 0,
      "outputs": [
        {
          "output_type": "stream",
          "text": [
            "The interquartile range is 65\n"
          ],
          "name": "stdout"
        }
      ]
    },
    {
      "cell_type": "markdown",
      "metadata": {
        "id": "FKkL3HkfXrQc",
        "colab_type": "text"
      },
      "source": [
        "# Question 2:\n",
        "\n",
        "Plot a histogram for total team scores for all IPL games"
      ]
    },
    {
      "cell_type": "code",
      "metadata": {
        "id": "Iq8er-xOXrQc",
        "colab_type": "code",
        "colab": {}
      },
      "source": [
        "delivery=pd.read_csv('deliveries.csv')"
      ],
      "execution_count": 0,
      "outputs": []
    },
    {
      "cell_type": "code",
      "metadata": {
        "id": "_A7URVJ-XrQg",
        "colab_type": "code",
        "colab": {}
      },
      "source": [
        "a=delivery.groupby(['match_id','inning'])['total_runs'].sum().reset_index()"
      ],
      "execution_count": 0,
      "outputs": []
    },
    {
      "cell_type": "code",
      "metadata": {
        "id": "-WIlZ1DwXrQj",
        "colab_type": "code",
        "colab": {}
      },
      "source": [
        "a=a['total_runs'].values"
      ],
      "execution_count": 0,
      "outputs": []
    },
    {
      "cell_type": "code",
      "metadata": {
        "id": "2vgd7A7jXrQm",
        "colab_type": "code",
        "colab": {},
        "outputId": "c741d854-1fbd-40ed-e2aa-8f5da6f8775d"
      },
      "source": [
        "plt.hist(a)"
      ],
      "execution_count": 0,
      "outputs": [
        {
          "output_type": "execute_result",
          "data": {
            "text/plain": [
              "(array([ 15.,   3.,  20.,  66., 198., 414., 378., 160.,  26.,   4.]),\n",
              " array([  2. ,  28.1,  54.2,  80.3, 106.4, 132.5, 158.6, 184.7, 210.8,\n",
              "        236.9, 263. ]),\n",
              " <a list of 10 Patch objects>)"
            ]
          },
          "metadata": {
            "tags": []
          },
          "execution_count": 7
        },
        {
          "output_type": "display_data",
          "data": {
            "image/png": "[encoded data removed]",
            "text/plain": [
              "<Figure size 432x288 with 1 Axes>"
            ]
          },
          "metadata": {
            "tags": [],
            "needs_background": "light"
          }
        }
      ]
    },
    {
      "cell_type": "code",
      "metadata": {
        "id": "3WUi6JRJXrQp",
        "colab_type": "code",
        "colab": {}
      },
      "source": [
        ""
      ],
      "execution_count": 0,
      "outputs": []
    },
    {
      "cell_type": "markdown",
      "metadata": {
        "id": "Un9OcyW1XrQr",
        "colab_type": "text"
      },
      "source": [
        "# Question 3.\n",
        "\n",
        "Find the skewness of bowler economy data where the bowler has bowled a minimum of 300 balls."
      ]
    },
    {
      "cell_type": "code",
      "metadata": {
        "id": "B_6hYTTgXrQs",
        "colab_type": "code",
        "colab": {},
        "outputId": "c2e8398d-727c-4852-97ac-94f78d648402"
      },
      "source": [
        "a=delivery\n",
        "a=a[(a['wide_runs']==0) & (a['noball_runs']==0)]\n",
        "a=a.groupby(['bowler'])['match_id'].count().reset_index()\n",
        "a.rename(columns={'match_id':'balls bowled'},inplace=True) \n",
        "a=a[a['balls bowled']>300]         #Bowler with more than 300 balls bowled\n",
        "\n",
        "names=list(a['bowler'])\n",
        "\n",
        "b=delivery[delivery['bowler'].isin(names)]\n",
        "b=b.groupby(['bowler'])['batsman_runs'].sum().reset_index()   #Runs scored against these bowlers\n",
        "\n",
        "a=a.merge(b,left_on='bowler',right_on='bowler')\n",
        "\n",
        "a['Economy']=(a['batsman_runs']/a['balls bowled'])*6\n",
        "\n",
        "a"
      ],
      "execution_count": 0,
      "outputs": [
        {
          "output_type": "execute_result",
          "data": {
            "text/html": [
              "<div>\n",
              "<style scoped>\n",
              "    .dataframe tbody tr th:only-of-type {\n",
              "        vertical-align: middle;\n",
              "    }\n",
              "\n",
              "    .dataframe tbody tr th {\n",
              "        vertical-align: top;\n",
              "    }\n",
              "\n",
              "    .dataframe thead th {\n",
              "        text-align: right;\n",
              "    }\n",
              "</style>\n",
              "<table border=\"1\" class=\"dataframe\">\n",
              "  <thead>\n",
              "    <tr style=\"text-align: right;\">\n",
              "      <th></th>\n",
              "      <th>bowler</th>\n",
              "      <th>balls bowled</th>\n",
              "      <th>batsman_runs</th>\n",
              "      <th>Economy</th>\n",
              "    </tr>\n",
              "  </thead>\n",
              "  <tbody>\n",
              "    <tr>\n",
              "      <th>0</th>\n",
              "      <td>A Kumble</td>\n",
              "      <td>965</td>\n",
              "      <td>1027</td>\n",
              "      <td>6.385492</td>\n",
              "    </tr>\n",
              "    <tr>\n",
              "      <th>1</th>\n",
              "      <td>A Mishra</td>\n",
              "      <td>2639</td>\n",
              "      <td>3191</td>\n",
              "      <td>7.255021</td>\n",
              "    </tr>\n",
              "    <tr>\n",
              "      <th>2</th>\n",
              "      <td>A Nehra</td>\n",
              "      <td>1908</td>\n",
              "      <td>2422</td>\n",
              "      <td>7.616352</td>\n",
              "    </tr>\n",
              "    <tr>\n",
              "      <th>3</th>\n",
              "      <td>A Singh</td>\n",
              "      <td>473</td>\n",
              "      <td>603</td>\n",
              "      <td>7.649049</td>\n",
              "    </tr>\n",
              "    <tr>\n",
              "      <th>4</th>\n",
              "      <td>A Symonds</td>\n",
              "      <td>527</td>\n",
              "      <td>656</td>\n",
              "      <td>7.468691</td>\n",
              "    </tr>\n",
              "    <tr>\n",
              "      <th>...</th>\n",
              "      <td>...</td>\n",
              "      <td>...</td>\n",
              "      <td>...</td>\n",
              "      <td>...</td>\n",
              "    </tr>\n",
              "    <tr>\n",
              "      <th>118</th>\n",
              "      <td>WD Parnell</td>\n",
              "      <td>572</td>\n",
              "      <td>651</td>\n",
              "      <td>6.828671</td>\n",
              "    </tr>\n",
              "    <tr>\n",
              "      <th>119</th>\n",
              "      <td>YK Pathan</td>\n",
              "      <td>1129</td>\n",
              "      <td>1350</td>\n",
              "      <td>7.174491</td>\n",
              "    </tr>\n",
              "    <tr>\n",
              "      <th>120</th>\n",
              "      <td>YS Chahal</td>\n",
              "      <td>1191</td>\n",
              "      <td>1532</td>\n",
              "      <td>7.717884</td>\n",
              "    </tr>\n",
              "    <tr>\n",
              "      <th>121</th>\n",
              "      <td>Yuvraj Singh</td>\n",
              "      <td>857</td>\n",
              "      <td>1042</td>\n",
              "      <td>7.295216</td>\n",
              "    </tr>\n",
              "    <tr>\n",
              "      <th>122</th>\n",
              "      <td>Z Khan</td>\n",
              "      <td>2200</td>\n",
              "      <td>2691</td>\n",
              "      <td>7.339091</td>\n",
              "    </tr>\n",
              "  </tbody>\n",
              "</table>\n",
              "<p>123 rows × 4 columns</p>\n",
              "</div>"
            ],
            "text/plain": [
              "           bowler  balls bowled  batsman_runs   Economy\n",
              "0        A Kumble           965          1027  6.385492\n",
              "1        A Mishra          2639          3191  7.255021\n",
              "2         A Nehra          1908          2422  7.616352\n",
              "3         A Singh           473           603  7.649049\n",
              "4       A Symonds           527           656  7.468691\n",
              "..            ...           ...           ...       ...\n",
              "118    WD Parnell           572           651  6.828671\n",
              "119     YK Pathan          1129          1350  7.174491\n",
              "120     YS Chahal          1191          1532  7.717884\n",
              "121  Yuvraj Singh           857          1042  7.295216\n",
              "122        Z Khan          2200          2691  7.339091\n",
              "\n",
              "[123 rows x 4 columns]"
            ]
          },
          "metadata": {
            "tags": []
          },
          "execution_count": 9
        }
      ]
    },
    {
      "cell_type": "code",
      "metadata": {
        "id": "N5d9EdrxXrQv",
        "colab_type": "code",
        "colab": {},
        "outputId": "cad332b8-cc6c-414f-89d1-066d42736ce4"
      },
      "source": [
        "plt.hist(a['Economy'])"
      ],
      "execution_count": 0,
      "outputs": [
        {
          "output_type": "execute_result",
          "data": {
            "text/plain": [
              "(array([ 6.,  5., 14., 16., 25., 18., 12., 12.,  9.,  6.]),\n",
              " array([6.21128949, 6.48849387, 6.76569826, 7.04290264, 7.32010703,\n",
              "        7.59731141, 7.87451579, 8.15172018, 8.42892456, 8.70612895,\n",
              "        8.98333333]),\n",
              " <a list of 10 Patch objects>)"
            ]
          },
          "metadata": {
            "tags": []
          },
          "execution_count": 10
        },
        {
          "output_type": "display_data",
          "data": {
            "image/png": "[encoded data removed]",
            "text/plain": [
              "<Figure size 432x288 with 1 Axes>"
            ]
          },
          "metadata": {
            "tags": [],
            "needs_background": "light"
          }
        }
      ]
    },
    {
      "cell_type": "code",
      "metadata": {
        "id": "_5OAhi76XrQy",
        "colab_type": "code",
        "colab": {}
      },
      "source": [
        ""
      ],
      "execution_count": 0,
      "outputs": []
    },
    {
      "cell_type": "markdown",
      "metadata": {
        "id": "hH4jLCLMXrQ1",
        "colab_type": "text"
      },
      "source": [
        "# Question 4:\n",
        "\n",
        "Give three examples of negatively skewed data and 3 examples of positively skewed data"
      ]
    },
    {
      "cell_type": "code",
      "metadata": {
        "id": "wzYpjSKlXrQ2",
        "colab_type": "code",
        "colab": {}
      },
      "source": [
        "Positive Skewed Data:\n",
        "    1. Sales of Newspaper throughout the day\n",
        "    2. Income of a country\n",
        "    3. Price of an unsold product\n",
        "\n",
        "Negative Skewed Data:\n",
        "    1. sales of liquor throughtout the day\n",
        "    2. no of corona virus infected patients\n",
        "    3. no. of data science job roles this decade"
      ],
      "execution_count": 0,
      "outputs": []
    }
  ]
}